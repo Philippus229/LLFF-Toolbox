{
  "nbformat": 4,
  "nbformat_minor": 0,
  "metadata": {
    "colab": {
      "name": "LLFF-Toolbox.ipynb",
      "provenance": [],
      "collapsed_sections": [],
      "authorship_tag": "ABX9TyOHdoEgKG+msv+0UM2vq9h2",
      "include_colab_link": true
    },
    "kernelspec": {
      "name": "python3",
      "display_name": "Python 3"
    },
    "accelerator": "GPU"
  },
  "cells": [
    {
      "cell_type": "markdown",
      "metadata": {
        "id": "view-in-github",
        "colab_type": "text"
      },
      "source": [
        "<a href=\"https://colab.research.google.com/github/Philippus229/LLFF-Toolbox/blob/master/LLFF-Toolbox.ipynb\" target=\"_parent\"><img src=\"https://colab.research.google.com/assets/colab-badge.svg\" alt=\"Open In Colab\"/></a>"
      ]
    },
    {
      "cell_type": "markdown",
      "metadata": {
        "id": "M5U2hjlEGAB4",
        "colab_type": "text"
      },
      "source": [
        "**Clone LLFF GitHub Repository (required)**"
      ]
    },
    {
      "cell_type": "code",
      "metadata": {
        "id": "6yqoTMo6rd_p",
        "colab_type": "code",
        "colab": {}
      },
      "source": [
        "!git clone https://github.com/Fyusion/LLFF.git"
      ],
      "execution_count": 0,
      "outputs": []
    },
    {
      "cell_type": "markdown",
      "metadata": {
        "id": "OnBhQdX6GVKM",
        "colab_type": "text"
      },
      "source": [
        "**Download pre-trained Checkpoint (required)**"
      ]
    },
    {
      "cell_type": "code",
      "metadata": {
        "id": "M9Wx5MOtvZ0R",
        "colab_type": "code",
        "colab": {}
      },
      "source": [
        "!wget http://people.eecs.berkeley.edu/~bmild/llff/data/llff_trained_model.zip\n",
        "!unzip llff_trained_model.zip -d LLFF/checkpoints\n",
        "!rm llff_trained_model.zip"
      ],
      "execution_count": 0,
      "outputs": []
    },
    {
      "cell_type": "markdown",
      "metadata": {
        "id": "dET-GstRHS3w",
        "colab_type": "text"
      },
      "source": [
        "**Download Test Scene (optional)**"
      ]
    },
    {
      "cell_type": "code",
      "metadata": {
        "id": "_SfnhTAmHTPA",
        "colab_type": "code",
        "colab": {}
      },
      "source": [
        "!wget http://people.eecs.berkeley.edu/~bmild/llff/data/testscene.zip\n",
        "!unzip testscene.zip -d data\n",
        "!rm testscene.zip"
      ],
      "execution_count": 0,
      "outputs": []
    },
    {
      "cell_type": "markdown",
      "metadata": {
        "id": "U6LWkHchHhsE",
        "colab_type": "text"
      },
      "source": [
        "**Mount Google Drive and Copy LLFF_data (required)**"
      ]
    },
    {
      "cell_type": "code",
      "metadata": {
        "id": "KU6Xtzzrw1We",
        "colab_type": "code",
        "colab": {}
      },
      "source": [
        "from google.colab import drive\n",
        "drive.mount(\"/content/gdrive\")\n",
        "!mkdir /content/MyDrive\n",
        "!cp -R /content/gdrive/My\\ Drive/LLFF_data /content/MyDrive/"
      ],
      "execution_count": 0,
      "outputs": []
    },
    {
      "cell_type": "markdown",
      "metadata": {
        "id": "Mi71tTOTH3Yp",
        "colab_type": "text"
      },
      "source": [
        "**Install Required Packages (obviously required)**"
      ]
    },
    {
      "cell_type": "code",
      "metadata": {
        "id": "uQ-fjEhBxJ7X",
        "colab_type": "code",
        "colab": {}
      },
      "source": [
        "!apt-get install -y colmap ffmpeg libglfw3-dev imagemagick libxcursor-dev libxinerama-dev\n",
        "!pip install jupyterlab \"tensorflow==1.14.0\" \"tensorflow-gpu==1.14.0\" matplotlib scipy numpy scikit-image \"imgaug==0.2.5\" \"imageio==2.4.0\""
      ],
      "execution_count": 0,
      "outputs": []
    },
    {
      "cell_type": "markdown",
      "metadata": {
        "id": "30gLLM1aE846",
        "colab_type": "text"
      },
      "source": [
        "**Pose Estimation using COLMAP (CPU)**"
      ]
    },
    {
      "cell_type": "code",
      "metadata": {
        "id": "vuKopZa1K-SA",
        "colab_type": "code",
        "colab": {}
      },
      "source": [
        "!colmap feature_extractor --database_path \"/content/MyDrive/LLFF_data/in/database.db\" --image_path \"/content/MyDrive/LLFF_data/in/images\" --ImageReader.single_camera 1 --SiftExtraction.use_gpu 0\n",
        "!colmap exhaustive_matcher --database_path \"/content/MyDrive/LLFF_data/in/database.db\" --SiftMatching.use_gpu 0\n",
        "!mkdir /content/MyDrive/LLFF_data/in/sparse\n",
        "!colmap mapper --database_path \"/content/MyDrive/LLFF_data/in/database.db\" --image_path \"/content/MyDrive/LLFF_data/in/images\" --export_path \"/content/MyDrive/LLFF_data/in/sparse\" --Mapper.num_threads 16 --Mapper.init_min_tri_angle 4 --Mapper.multiple_models 0 --Mapper.extract_colors 0\n",
        "\n",
        "!python imgs2poses.py \"/content/MyDrive/LLFF_data/in\"\n",
        "\n",
        "'''DEBUGGING STUFF (uncomment if you f.e. want to reuse the pose data in another session)'''\n",
        "#!cp /content/MyDrive/LLFF_data/in/database.db /content/gdrive/My\\ Drive/LLFF_data/in/database.db\n",
        "#!cp /content/MyDrive/LLFF_data/in/poses_bounds.npy /content/gdrive/My\\ Drive/LLFF_data/in/poses_bounds.npy\n",
        "#!cp -R /content/MyDrive/LLFF_data/in/sparse /content/gdrive/My\\ Drive/LLFF_data/in/"
      ],
      "execution_count": 0,
      "outputs": []
    },
    {
      "cell_type": "markdown",
      "metadata": {
        "id": "_QkCDnw0FaT_",
        "colab_type": "text"
      },
      "source": [
        "**Generate MPIs from Images and Pose Data (CPU)**"
      ]
    },
    {
      "cell_type": "code",
      "metadata": {
        "id": "olnMBuyN1uRA",
        "colab_type": "code",
        "colab": {}
      },
      "source": [
        "%cd /content/LLFF\n",
        "!python imgs2mpis.py \"/content/MyDrive/LLFF_data/in\" \"/content/MyDrive/LLFF_data/out/mpis\" --height 360\n",
        "%cd ..\n",
        "!cp -R /content/MyDrive/LLFF_data/out/mpis /content/gdrive/My\\ Drive/LLFF_data/out/"
      ],
      "execution_count": 0,
      "outputs": []
    },
    {
      "cell_type": "markdown",
      "metadata": {
        "id": "E2ieC0toES7v",
        "colab_type": "text"
      },
      "source": [
        "**Build Cuda Renderer (optional, required for video rendering)**"
      ]
    },
    {
      "cell_type": "code",
      "metadata": {
        "id": "nNzMuCuO7Nh6",
        "colab_type": "code",
        "colab": {}
      },
      "source": [
        "%cd /content/LLFF/cuda_renderer\n",
        "!make\n",
        "%cd ..\n",
        "!cp -R cuda_renderer /content/gdrive/My\\ Drive/LLFF_data/"
      ],
      "execution_count": 0,
      "outputs": []
    },
    {
      "cell_type": "markdown",
      "metadata": {
        "id": "qSNOa1URDxR0",
        "colab_type": "text"
      },
      "source": [
        "**Build OpenGL Viewer (optional)**"
      ]
    },
    {
      "cell_type": "code",
      "metadata": {
        "id": "1tBpzmq58YuI",
        "colab_type": "code",
        "colab": {}
      },
      "source": [
        "%cd /content/LLFF/opengl_viewer\n",
        "!make\n",
        "%cd ..\n",
        "!cp -R opengl_viewer /content/gdrive/My\\ Drive/LLFF_data/"
      ],
      "execution_count": 0,
      "outputs": []
    },
    {
      "cell_type": "markdown",
      "metadata": {
        "id": "JVzB8JBEJDjM",
        "colab_type": "text"
      },
      "source": [
        "**Generate Testpath for Video (optional)**"
      ]
    },
    {
      "cell_type": "code",
      "metadata": {
        "id": "u4LdNvwl6X7e",
        "colab_type": "code",
        "colab": {}
      },
      "source": [
        "%cd /content/LLFF\n",
        "!python imgs2renderpath.py \"/content/MyDrive/LLFF_data/in\" \"/content/MyDrive/LLFF_data/out/renderpath.txt\" --spiral\n",
        "#!cp /content/MyDrive/LLFF_data/out/renderpath.txt /content/gdrive/My\\ Drive/LLFF_data/out/renderpath.txt\n",
        "%cd .."
      ],
      "execution_count": 0,
      "outputs": []
    },
    {
      "cell_type": "markdown",
      "metadata": {
        "id": "ZvEl_wtoIhXD",
        "colab_type": "text"
      },
      "source": [
        "**Render Video using Cuda Renderer (optional, requires GPU)**"
      ]
    },
    {
      "cell_type": "code",
      "metadata": {
        "id": "17GIHoLdI4N0",
        "colab_type": "code",
        "colab": {}
      },
      "source": [
        "!/content/LLFF/cuda_renderer/cuda_renderer \\\n",
        "    /content/MyDrive/LLFF_data/out/mpis \\\n",
        "    /content/MyDrive/LLFF_data/out/renderpath.txt \\\n",
        "    /content/MyDrive/LLFF_data/out/video.mp4 \\\n",
        "    360 .8 18\n",
        "!cp /content/MyDrive/LLFF_data/out/video.mp4 /content/gdrive/My\\ Drive/LLFF_data/out/video.mp4"
      ],
      "execution_count": 0,
      "outputs": []
    }
  ]
}