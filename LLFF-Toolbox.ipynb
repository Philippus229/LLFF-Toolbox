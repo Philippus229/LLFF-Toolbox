{
  "nbformat": 4,
  "nbformat_minor": 0,
  "metadata": {
    "colab": {
      "name": "LLFF-Toolbox.ipynb",
      "provenance": [],
      "collapsed_sections": []
    },
    "kernelspec": {
      "name": "python3",
      "display_name": "Python 3"
    },
    "accelerator": "GPU"
  },
  "cells": [
    {
      "cell_type": "markdown",
      "metadata": {
        "id": "M5U2hjlEGAB4"
      },
      "source": [
        "**Clone LLFF GitHub Repository (required)**"
      ]
    },
    {
      "cell_type": "code",
      "metadata": {
        "id": "6yqoTMo6rd_p"
      },
      "source": [
        "!git clone https://github.com/Fyusion/LLFF.git"
      ],
      "execution_count": null,
      "outputs": []
    },
    {
      "cell_type": "markdown",
      "metadata": {
        "id": "OnBhQdX6GVKM"
      },
      "source": [
        "**Download pre-trained Checkpoint (required)**"
      ]
    },
    {
      "cell_type": "code",
      "metadata": {
        "id": "M9Wx5MOtvZ0R"
      },
      "source": [
        "!wget https://www.dropbox.com/s/0pu4xsbrtrzytnt/llff_trained_model.zip?dl=1 -O llff_trained_model.zip\n",
        "!unzip llff_trained_model.zip -d LLFF/checkpoints\n",
        "!rm llff_trained_model.zip"
      ],
      "execution_count": null,
      "outputs": []
    },
    {
      "cell_type": "markdown",
      "metadata": {
        "id": "dET-GstRHS3w"
      },
      "source": [
        "**Download Test Scene (optional)**"
      ]
    },
    {
      "cell_type": "code",
      "metadata": {
        "id": "_SfnhTAmHTPA"
      },
      "source": [
        "!wget http://people.eecs.berkeley.edu/~bmild/llff/data/testscene.zip\n",
        "!unzip testscene.zip -d data\n",
        "!rm testscene.zip"
      ],
      "execution_count": null,
      "outputs": []
    },
    {
      "cell_type": "markdown",
      "metadata": {
        "id": "U6LWkHchHhsE"
      },
      "source": [
        "**Mount Google Drive and Copy LLFF_data (required)**"
      ]
    },
    {
      "cell_type": "code",
      "metadata": {
        "id": "KU6Xtzzrw1We"
      },
      "source": [
        "from google.colab import drive\n",
        "drive.mount(\"/content/gdrive\")\n",
        "#import shutil\n",
        "#shutil.rmtree(\"/content/MyDrive\")\n",
        "!mkdir /content/MyDrive\n",
        "!cp -R /content/gdrive/My\\ Drive/LLFF_data /content/MyDrive/"
      ],
      "execution_count": null,
      "outputs": []
    },
    {
      "cell_type": "markdown",
      "metadata": {
        "id": "Mi71tTOTH3Yp"
      },
      "source": [
        "**Install Required Packages (obviously required)**"
      ]
    },
    {
      "cell_type": "code",
      "metadata": {
        "id": "uQ-fjEhBxJ7X"
      },
      "source": [
        "!apt-get update\n",
        "!apt-get install -y colmap ffmpeg libglfw3-dev imagemagick libxcursor-dev libxinerama-dev\n",
        "!pip install jupyterlab \"tensorflow==1.14.0\" \"tensorflow-gpu==1.14.0\" matplotlib scipy numpy scikit-image \"imgaug==0.2.5\" \"imageio==2.4.0\""
      ],
      "execution_count": null,
      "outputs": []
    },
    {
      "cell_type": "markdown",
      "metadata": {
        "id": "30gLLM1aE846"
      },
      "source": [
        "**Pose Estimation using COLMAP (CPU)**"
      ]
    },
    {
      "cell_type": "code",
      "metadata": {
        "id": "vuKopZa1K-SA"
      },
      "source": [
        "!colmap feature_extractor --database_path \"/content/MyDrive/LLFF_data/in/database.db\" --image_path \"/content/MyDrive/LLFF_data/in/images\" --ImageReader.single_camera 1 --SiftExtraction.use_gpu 0\n",
        "!colmap exhaustive_matcher --database_path \"/content/MyDrive/LLFF_data/in/database.db\" --SiftMatching.use_gpu 0\n",
        "!mkdir /content/MyDrive/LLFF_data/in/sparse\n",
        "!colmap mapper --database_path \"/content/MyDrive/LLFF_data/in/database.db\" --image_path \"/content/MyDrive/LLFF_data/in/images\" --export_path \"/content/MyDrive/LLFF_data/in/sparse\" --Mapper.num_threads 16 --Mapper.init_min_tri_angle 4 --Mapper.multiple_models 0 --Mapper.extract_colors 0\n",
        "\n",
        "%cd /content/LLFF\n",
        "!python imgs2poses.py \"/content/MyDrive/LLFF_data/in\"\n",
        "%cd ..\n",
        "\n",
        "'''DEBUGGING STUFF (uncomment if you f.e. want to reuse the pose data in another session)'''\n",
        "#!cp /content/MyDrive/LLFF_data/in/database.db /content/gdrive/My\\ Drive/LLFF_data/in/database.db\n",
        "#!cp /content/MyDrive/LLFF_data/in/poses_bounds.npy /content/gdrive/My\\ Drive/LLFF_data/in/poses_bounds.npy\n",
        "#!cp -R /content/MyDrive/LLFF_data/in/sparse /content/gdrive/My\\ Drive/LLFF_data/in/"
      ],
      "execution_count": null,
      "outputs": []
    },
    {
      "cell_type": "markdown",
      "metadata": {
        "id": "_QkCDnw0FaT_"
      },
      "source": [
        "**Generate MPIs from Images and Pose Data (CPU)**"
      ]
    },
    {
      "cell_type": "code",
      "metadata": {
        "id": "olnMBuyN1uRA"
      },
      "source": [
        "%cd /content/LLFF\n",
        "!python imgs2mpis.py \"/content/MyDrive/LLFF_data/in\" \"/content/MyDrive/LLFF_data/out/mpis\" --height 480\n",
        "%cd ..\n",
        "!cp -R /content/MyDrive/LLFF_data/out/mpis /content/gdrive/My\\ Drive/LLFF_data/out/"
      ],
      "execution_count": null,
      "outputs": []
    },
    {
      "cell_type": "markdown",
      "metadata": {
        "id": "E2ieC0toES7v"
      },
      "source": [
        "**Build Cuda Renderer (optional, required for video rendering)**"
      ]
    },
    {
      "cell_type": "code",
      "metadata": {
        "id": "nNzMuCuO7Nh6"
      },
      "source": [
        "%cd /content/LLFF/cuda_renderer\n",
        "!make\n",
        "%cd ..\n",
        "#!cp -R cuda_renderer /content/gdrive/My\\ Drive/LLFF_data/"
      ],
      "execution_count": null,
      "outputs": []
    },
    {
      "cell_type": "markdown",
      "metadata": {
        "id": "qSNOa1URDxR0"
      },
      "source": [
        "**Build OpenGL Viewer (optional)**"
      ]
    },
    {
      "cell_type": "code",
      "metadata": {
        "id": "1tBpzmq58YuI"
      },
      "source": [
        "%cd /content/LLFF/opengl_viewer\n",
        "!make\n",
        "%cd ..\n",
        "!cp -R opengl_viewer /content/gdrive/My\\ Drive/LLFF_data/"
      ],
      "execution_count": null,
      "outputs": []
    },
    {
      "cell_type": "markdown",
      "metadata": {
        "id": "JVzB8JBEJDjM"
      },
      "source": [
        "**Generate Testpath for Video (optional)**"
      ]
    },
    {
      "cell_type": "code",
      "metadata": {
        "id": "u4LdNvwl6X7e"
      },
      "source": [
        "%cd /content/LLFF\n",
        "!python imgs2renderpath.py \"/content/MyDrive/LLFF_data/in\" \"/content/MyDrive/LLFF_data/out/renderpath.txt\" --spiral\n",
        "#!cp /content/MyDrive/LLFF_data/out/renderpath.txt /content/gdrive/My\\ Drive/LLFF_data/out/renderpath.txt\n",
        "%cd .."
      ],
      "execution_count": null,
      "outputs": []
    },
    {
      "cell_type": "markdown",
      "metadata": {
        "id": "ZvEl_wtoIhXD"
      },
      "source": [
        "**Render Video using Cuda Renderer (optional, requires GPU)**"
      ]
    },
    {
      "cell_type": "code",
      "metadata": {
        "id": "17GIHoLdI4N0"
      },
      "source": [
        "!/content/LLFF/cuda_renderer/cuda_renderer \\\n",
        "    /content/MyDrive/LLFF_data/out/mpis \\\n",
        "    /content/MyDrive/LLFF_data/out/renderpath.txt \\\n",
        "    /content/MyDrive/LLFF_data/out/video.mp4 \\\n",
        "    480 1 18\n",
        "!cp /content/MyDrive/LLFF_data/out/video.mp4 /content/gdrive/My\\ Drive/LLFF_data/out/video.mp4"
      ],
      "execution_count": null,
      "outputs": []
    }
  ]
}
